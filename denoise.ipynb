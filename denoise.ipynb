{
 "cells": [
  {
   "cell_type": "code",
   "execution_count": 1,
   "metadata": {},
   "outputs": [],
   "source": [
    "#Imports\n",
    "import numpy as np  # noqa: F401\n",
    "import dask.dataframe as dd\n",
    "import matplotlib.pyplot as plt # noqa: F401\n",
    "from geopy.distance import geodesic\n",
    "from datetime import datetime, timedelta\n",
    "import os # noqa: F401\n",
    "import tqdm \n",
    "import folium\n",
    "from folium.plugins import AntPath"
   ]
  },
  {
   "cell_type": "code",
   "execution_count": null,
   "metadata": {},
   "outputs": [
    {
     "name": "stderr",
     "output_type": "stream",
     "text": [
      "C:\\Users\\jposo\\AppData\\Local\\Temp\\ipykernel_3860\\2006492240.py:15: FutureWarning: The default of observed=False is deprecated and will be changed to True in a future version of pandas. Pass observed=False to retain current behavior or observed=True to adopt the future default and silence this warning.\n",
      "  for device_id, group in tqdm.tqdm(df.groupby('deviceid'), desc=\"Processing devices\"):\n",
      "Processing devices: 100%|██████████| 751168/751168 [34:43<00:00, 360.59it/s]  \n"
     ]
    }
   ],
   "source": [
    "df = dd.read_parquet('sampled_data/20230327.parquet', columns= ['deviceid', 'date', 'time', 'lon', 'lat'])\n",
    "\n",
    "# Load data\n",
    "df['datetime'] = dd.to_datetime(df['date'].astype(str) + ' ' + df['time'].astype(str), format='%d.%m.%Y %H:%M:%S')\n",
    "\n",
    "df = df.sort_values(by=['deviceid', 'datetime']).reset_index(drop=True)\n",
    "\n",
    "# Thresholds\n",
    "D_thres = 200  # meters\n",
    "T_thres = timedelta(minutes=20)\n",
    "\n",
    "stay_points = []\n",
    "\n",
    "# Process per device\n",
    "for device_id, group in tqdm.tqdm(df.groupby('deviceid'), desc=\"Processing devices\"):\n",
    "    points = group[['datetime', 'lat', 'lon']].values\n",
    "    i = 0\n",
    "    while i < len(points):\n",
    "        j = i + 1\n",
    "        while j < len(points):\n",
    "            dist = geodesic((points[i][1], points[i][2]), (points[j][1], points[j][2])).meters\n",
    "            if dist > D_thres:\n",
    "                delta_t = points[j][0] - points[i][0]\n",
    "                if delta_t > T_thres:\n",
    "                    lat_mean = group.iloc[i:j]['lat'].mean()\n",
    "                    lon_mean = group.iloc[i:j]['lon'].mean()\n",
    "                    stay_points.append({\n",
    "                        'deviceid': device_id,\n",
    "                        'arrival_time': points[i][0],\n",
    "                        'leave_time': points[j][0],\n",
    "                        'stay_lat': lat_mean,\n",
    "                        'stay_lon': lon_mean,\n",
    "                        'duration_min': delta_t.total_seconds() / 60\n",
    "                    })\n",
    "                break\n",
    "            j += 1\n",
    "        i = j\n",
    "\n",
    "stay_df = dd.DataFrame(stay_points)"
   ]
  },
  {
   "cell_type": "code",
   "execution_count": 7,
   "metadata": {},
   "outputs": [],
   "source": [
    "def add_line_from_to(initial:list[int, int], final:list[int, int], m:folium.Map):\n",
    "    # Use the folium AntPath plugin to draw a line between two points\n",
    "    AntPath(\n",
    "        locations=[initial, final],\n",
    "        dash_array=[20, 20],\n",
    "        delay=1000,\n",
    "        color=\"#A00000\",\n",
    "        pulse_color=\"#A00000\",\n",
    "        weight=5,\n",
    "        tooltip=\"From start to finish\"\n",
    "    ).add_to(m)"
   ]
  },
  {
   "cell_type": "code",
   "execution_count": null,
   "metadata": {},
   "outputs": [
    {
     "ename": "NameError",
     "evalue": "name 'pd' is not defined",
     "output_type": "error",
     "traceback": [
      "\u001b[31m---------------------------------------------------------------------------\u001b[39m",
      "\u001b[31mNameError\u001b[39m                                 Traceback (most recent call last)",
      "\u001b[36mCell\u001b[39m\u001b[36m \u001b[39m\u001b[32mIn[1]\u001b[39m\u001b[32m, line 1\u001b[39m\n\u001b[32m----> \u001b[39m\u001b[32m1\u001b[39m stay_points = \u001b[43mpd\u001b[49m.read_parquet(\u001b[33m'\u001b[39m\u001b[33mstay_points.parquet\u001b[39m\u001b[33m'\u001b[39m)\n\u001b[32m      2\u001b[39m display(stay_points)\n\u001b[32m      3\u001b[39m unique_devices = stay_points[\u001b[33m'\u001b[39m\u001b[33mdeviceid\u001b[39m\u001b[33m'\u001b[39m].unique()\n",
      "\u001b[31mNameError\u001b[39m: name 'pd' is not defined"
     ]
    }
   ],
   "source": [
    "stay_points = dd.read_parquet('stay_points.parquet')\n",
    "display(stay_points)\n",
    "unique_devices = stay_points['deviceid'].unique()\n",
    "unique_devices = unique_devices[:10]  # Limit to 10 devices for demonstration\n",
    "os.makedirs('maps', exist_ok=True)\n",
    "for device in unique_devices:\n",
    "    device_df = stay_points[stay_points['deviceid'] == device]\n",
    "    m = folium.Map(location=[device_df['stay_lat'].mean(), device_df['stay_lon'].mean()], zoom_start=12)\n",
    "    for i in range(len(device_df)-1):\n",
    "        initial = (device_df.iloc[i]['stay_lat'], device_df.iloc[i]['stay_lon'])\n",
    "        final = (device_df.iloc[i+1]['stay_lat'], device_df.iloc[i+1]['stay_lon'])\n",
    "        add_line_from_to(initial, final, m)\n",
    "    m.save(f'maps/{device}.html')"
   ]
  },
  {
   "cell_type": "code",
   "execution_count": null,
   "metadata": {},
   "outputs": [
    {
     "name": "stderr",
     "output_type": "stream",
     "text": [
      "Processing days:   0%|          | 0/7 [00:00<?, ?it/s]"
     ]
    }
   ],
   "source": [
    "# Automatically find all .parquet files in the data folder\n",
    "days = sorted([\"data/\" + f for f in os.listdir(\"data\") if f.endswith(\".parquet\")])\n",
    "\n",
    "for day in tqdm.tqdm(days, desc=\"Processing days\"):\n",
    "    current = dd.read_parquet(day)\n",
    "    # Randomly sample 10% of the data following the same distribution as the original data\n",
    "    sample = current.sample(frac=0.1, random_state=42)\n",
    "    # Save the sampled data to a new parquet file\n",
    "    # Ensure the directory exists\n",
    "    os.makedirs(\"sampled_data\", exist_ok=True)\n",
    "    sample.to_parquet(day.replace(\"data/\", \"sampled_data/\"), index=False)"
   ]
  }
 ],
 "metadata": {
  "kernelspec": {
   "display_name": "DS",
   "language": "python",
   "name": "python3"
  },
  "language_info": {
   "codemirror_mode": {
    "name": "ipython",
    "version": 3
   },
   "file_extension": ".py",
   "mimetype": "text/x-python",
   "name": "python",
   "nbconvert_exporter": "python",
   "pygments_lexer": "ipython3",
   "version": "3.13.2"
  }
 },
 "nbformat": 4,
 "nbformat_minor": 2
}
