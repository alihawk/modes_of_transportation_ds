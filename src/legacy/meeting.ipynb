{
 "cells": [
  {
   "cell_type": "code",
   "execution_count": 1,
   "id": "c59c0458",
   "metadata": {},
   "outputs": [],
   "source": [
    "import dask.dataframe as dd\n",
    "import geopandas as gpd\n",
    "import pandas as pd\n",
    "from shapely.geometry import Point"
   ]
  },
  {
   "cell_type": "code",
   "execution_count": null,
   "id": "830b1868",
   "metadata": {},
   "outputs": [],
   "source": [
    "# 1. Load base Parquet\n",
    "ddf = dd.read_parquet(\"sampled_data/20230*.parquet\", columns=['deviceid', 'date', 'time', 'lon', 'lat'])\n",
    "ddf['datetime'] = dd.to_datetime(ddf['date'].astype(str) + ' ' + ddf['time'].astype(str), format='%d.%m.%Y %H:%M:%S')\n",
    "ddf = ddf.drop(columns=['date', 'time'])\n",
    "\n",
    "# 2. Load zoning file once (outside of map_partitions)\n",
    "zoning = gpd.read_file(\"maps/zoning.geojson\").to_crs(epsg=4326)\n",
    "\n",
    "# 3. Define zone-tagging function for partitions\n",
    "def tag_zones_partition(df):\n",
    "    df = df.copy()\n",
    "    df['__row_id'] = df.index  # unique temporary ID to track rows\n",
    "\n",
    "    gdf = gpd.GeoDataFrame(df, geometry=gpd.points_from_xy(df.lon, df.lat), crs=\"EPSG:4326\")\n",
    "    joined = gpd.sjoin(gdf, zoning[['geometry']], how='left', predicate='within')\n",
    "\n",
    "    # Get just mapping of __row_id to zone index\n",
    "    zone_df = joined[['__row_id', 'index_right']].drop_duplicates('__row_id')\n",
    "\n",
    "    # Merge zone back safely\n",
    "    df = df.merge(zone_df, on='__row_id', how='left')\n",
    "    df = df.rename(columns={'index_right': 'zone'})\n",
    "    return df.drop(columns=['__row_id', 'geometry'])\n",
    "\n",
    "\n",
    "# 4. Define meta for Dask (use correct dtypes)\n",
    "meta = {\n",
    "    'deviceid': 'object',\n",
    "    'lon': 'float64',\n",
    "    'lat': 'float64',\n",
    "    'datetime': 'datetime64[ns]',\n",
    "    'zone': 'float64'  # nullable, because some points won't match any zone\n",
    "}\n",
    "\n",
    "# 5. Apply zone tagging with map_partitions\n",
    "tagged = ddf.map_partitions(tag_zones_partition, meta=meta)\n",
    "\n",
    "# 6. Save result\n",
    "tagged.to_parquet(\"meeting/zoned_gps.parquet\", engine=\"pyarrow\", write_index=False)\n"
   ]
  }
 ],
 "metadata": {
  "kernelspec": {
   "display_name": "DS",
   "language": "python",
   "name": "python3"
  },
  "language_info": {
   "codemirror_mode": {
    "name": "ipython",
    "version": 3
   },
   "file_extension": ".py",
   "mimetype": "text/x-python",
   "name": "python",
   "nbconvert_exporter": "python",
   "pygments_lexer": "ipython3",
   "version": "3.13.2"
  }
 },
 "nbformat": 4,
 "nbformat_minor": 5
}
