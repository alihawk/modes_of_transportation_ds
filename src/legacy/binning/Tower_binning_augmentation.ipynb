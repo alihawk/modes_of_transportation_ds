{
 "cells": [
  {
   "cell_type": "code",
   "execution_count": null,
   "id": "0ef5c455",
   "metadata": {},
   "outputs": [],
   "source": [
    "from pathlib import Path\n",
    "import logging\n",
    "import pandas as pd\n",
    "import geopandas as gpd\n",
    "import numpy as np\n",
    "from shapely.strtree import STRtree\n",
    "from shapely.geometry import Point\n",
    "\n",
    "TOWER_FILE        = Path(\"data/slovenia_towers.parquet\")\n",
    "MAX_RADIUS_M      = 300    # accept towers within this radius\n",
    "\n",
    "# ─────────────────────── towers (once) ────────────────────────────\n",
    "tower_df  = pd.read_parquet(TOWER_FILE)\n",
    "tower_gdf = gpd.GeoDataFrame(\n",
    "    tower_df,\n",
    "    geometry=gpd.points_from_xy(tower_df.LON, tower_df.LAT),\n",
    "    crs=\"EPSG:4326\"\n",
    ").to_crs(\"EPSG:3857\")\n",
    "\n",
    "tower_gdf[\"tower_id\"] = np.arange(len(tower_gdf), dtype=\"int32\")\n",
    "\n",
    "# ─────────────────── helper: add nearest tower ────────────────────\n",
    "def add_tower_id(df: pd.DataFrame,\n",
    "                 max_radius_m: float = MAX_RADIUS_M) -> pd.DataFrame:\n",
    "    # build point GeoDataFrame in metres\n",
    "    pts = gpd.GeoDataFrame(\n",
    "        df,\n",
    "        geometry=gpd.points_from_xy(df.lon, df.lat),\n",
    "        crs=\"EPSG:4326\"\n",
    "    ).to_crs(\"EPSG:3857\")\n",
    "\n",
    "    joined = gpd.sjoin_nearest(\n",
    "        pts,\n",
    "        tower_gdf[[\"tower_id\", \"geometry\"]],\n",
    "        how=\"left\",\n",
    "        max_distance=max_radius_m,\n",
    "        distance_col=\"tower_dist_m\")\n",
    "\n",
    "    # ── collapse possible duplicates (one row per point) ──────────\n",
    "    first = (joined\n",
    "             .sort_index()                       # keep stable order\n",
    "             .groupby(level=0)                   # original point index\n",
    "             .first())\n",
    "\n",
    "    df[\"tower_id\"]     = first[\"tower_id\"].to_numpy()\n",
    "    df[\"tower_dist_m\"] = first[\"tower_dist_m\"].to_numpy()\n",
    "    df[\"tower_ok\"]     = first[\"tower_id\"].notna()\n",
    "\n",
    "    return df"
   ]
  }
 ],
 "metadata": {
  "language_info": {
   "name": "python"
  }
 },
 "nbformat": 4,
 "nbformat_minor": 5
}
