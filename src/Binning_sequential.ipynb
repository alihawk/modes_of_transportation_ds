{
 "cells": [
  {
   "cell_type": "code",
   "execution_count": 1,
   "id": "466db18f",
   "metadata": {},
   "outputs": [
    {
     "name": "stderr",
     "output_type": "stream",
     "text": [
      "/d/hpc/home/jo83525/.local/lib/python3.11/site-packages/pandas/core/arrays/masked.py:60: UserWarning: Pandas requires version '1.3.6' or newer of 'bottleneck' (version '1.3.5' currently installed).\n",
      "  from pandas.core import (\n",
      "2025-05-27 12:11:12 INFO: Processing data_denoised/20230331.parquet\n",
      "2025-05-27 12:11:57 INFO: Adding spatial bin\n",
      "2025-05-27 12:13:31 INFO: Dropped 33 unmatched rows (zone_id = -1)\n",
      "2025-05-27 12:13:31 INFO: Adding time bin\n"
     ]
    },
    {
     "name": "stdout",
     "output_type": "stream",
     "text": [
      "df.colums= Index(['deviceid', 'date', 'time', 'lon', 'lat', 'datetime', 'device_change',\n",
      "       'dist_m', 'dt', 'speed_m_s', 'zone_id', 'time_bin'],\n",
      "      dtype='object')\n"
     ]
    },
    {
     "name": "stderr",
     "output_type": "stream",
     "text": [
      "2025-05-27 12:13:59 INFO: Wrote data_binned/20230331.parquet\n",
      "2025-05-27 12:13:59 INFO: Processing data_denoised/20230328.parquet\n",
      "2025-05-27 12:14:54 INFO: Adding spatial bin\n",
      "2025-05-27 12:16:28 INFO: Dropped 57 unmatched rows (zone_id = -1)\n",
      "2025-05-27 12:16:28 INFO: Adding time bin\n"
     ]
    },
    {
     "name": "stdout",
     "output_type": "stream",
     "text": [
      "df.colums= Index(['deviceid', 'date', 'time', 'lon', 'lat', 'datetime', 'device_change',\n",
      "       'dist_m', 'dt', 'speed_m_s', 'zone_id', 'time_bin'],\n",
      "      dtype='object')\n"
     ]
    },
    {
     "name": "stderr",
     "output_type": "stream",
     "text": [
      "2025-05-27 12:16:55 INFO: Wrote data_binned/20230328.parquet\n",
      "2025-05-27 12:16:55 INFO: Processing data_denoised/20230327.parquet\n",
      "2025-05-27 12:17:56 INFO: Adding spatial bin\n",
      "2025-05-27 12:19:31 INFO: Dropped 24 unmatched rows (zone_id = -1)\n",
      "2025-05-27 12:19:31 INFO: Adding time bin\n"
     ]
    },
    {
     "name": "stdout",
     "output_type": "stream",
     "text": [
      "df.colums= Index(['deviceid', 'date', 'time', 'lon', 'lat', 'datetime', 'device_change',\n",
      "       'dist_m', 'dt', 'speed_m_s', 'zone_id', 'time_bin'],\n",
      "      dtype='object')\n"
     ]
    },
    {
     "name": "stderr",
     "output_type": "stream",
     "text": [
      "2025-05-27 12:19:58 INFO: Wrote data_binned/20230327.parquet\n",
      "2025-05-27 12:19:58 INFO: Processing data_denoised/20230401.parquet\n",
      "2025-05-27 12:20:38 INFO: Adding spatial bin\n",
      "2025-05-27 12:22:02 INFO: Dropped 14 unmatched rows (zone_id = -1)\n",
      "2025-05-27 12:22:02 INFO: Adding time bin\n"
     ]
    },
    {
     "name": "stdout",
     "output_type": "stream",
     "text": [
      "df.colums= Index(['deviceid', 'date', 'time', 'lon', 'lat', 'datetime', 'device_change',\n",
      "       'dist_m', 'dt', 'speed_m_s', 'zone_id', 'time_bin'],\n",
      "      dtype='object')\n"
     ]
    },
    {
     "name": "stderr",
     "output_type": "stream",
     "text": [
      "2025-05-27 12:22:26 INFO: Wrote data_binned/20230401.parquet\n",
      "2025-05-27 12:22:26 INFO: Processing data_denoised/20230329.parquet\n",
      "2025-05-27 12:22:55 INFO: Adding spatial bin\n",
      "2025-05-27 12:24:30 INFO: Dropped 20 unmatched rows (zone_id = -1)\n",
      "2025-05-27 12:24:30 INFO: Adding time bin\n"
     ]
    },
    {
     "name": "stdout",
     "output_type": "stream",
     "text": [
      "df.colums= Index(['deviceid', 'date', 'time', 'lon', 'lat', 'datetime', 'device_change',\n",
      "       'dist_m', 'dt', 'speed_m_s', 'zone_id', 'time_bin'],\n",
      "      dtype='object')\n"
     ]
    },
    {
     "name": "stderr",
     "output_type": "stream",
     "text": [
      "2025-05-27 12:24:58 INFO: Wrote data_binned/20230329.parquet\n",
      "2025-05-27 12:24:58 INFO: Processing data_denoised/20230330.parquet\n",
      "2025-05-27 12:25:25 INFO: Adding spatial bin\n",
      "2025-05-27 12:27:00 INFO: Dropped 35 unmatched rows (zone_id = -1)\n",
      "2025-05-27 12:27:00 INFO: Adding time bin\n"
     ]
    },
    {
     "name": "stdout",
     "output_type": "stream",
     "text": [
      "df.colums= Index(['deviceid', 'date', 'time', 'lon', 'lat', 'datetime', 'device_change',\n",
      "       'dist_m', 'dt', 'speed_m_s', 'zone_id', 'time_bin'],\n",
      "      dtype='object')\n"
     ]
    },
    {
     "name": "stderr",
     "output_type": "stream",
     "text": [
      "2025-05-27 12:27:28 INFO: Wrote data_binned/20230330.parquet\n",
      "2025-05-27 12:27:28 INFO: Processing data_denoised/20230402.parquet\n",
      "2025-05-27 12:27:56 INFO: Adding spatial bin\n",
      "2025-05-27 12:29:16 INFO: Dropped 27 unmatched rows (zone_id = -1)\n",
      "2025-05-27 12:29:16 INFO: Adding time bin\n"
     ]
    },
    {
     "name": "stdout",
     "output_type": "stream",
     "text": [
      "df.colums= Index(['deviceid', 'date', 'time', 'lon', 'lat', 'datetime', 'device_change',\n",
      "       'dist_m', 'dt', 'speed_m_s', 'zone_id', 'time_bin'],\n",
      "      dtype='object')\n"
     ]
    },
    {
     "name": "stderr",
     "output_type": "stream",
     "text": [
      "2025-05-27 12:29:40 INFO: Wrote data_binned/20230402.parquet\n"
     ]
    }
   ],
   "source": [
    "from pathlib import Path\n",
    "import logging\n",
    "import pandas as pd\n",
    "import geopandas as gpd\n",
    "import numpy as np\n",
    "from shapely.strtree import STRtree\n",
    "from shapely.geometry import Point\n",
    "\n",
    "# ───────────────────────────── config ──────────────────────────────\n",
    "IN_DIR            = Path(\"data_denoised\")     # denoised input\n",
    "OUT_DIR           = Path(\"data_binned\")       # enriched output\n",
    "GRID_FILE         = Path(\"maps/minimalist_coning.geojson\")\n",
    "TIME_BIN_MINUTES  = 60\n",
    "\n",
    "# ───────────────────────── logging setup ──────────────────────────\n",
    "logging.basicConfig(\n",
    "    level=logging.INFO,\n",
    "    format=\"%(asctime)s %(levelname)s: %(message)s\",\n",
    "    datefmt=\"%Y-%m-%d %H:%M:%S\"\n",
    ")\n",
    "\n",
    "# ───────────────────── other helper functions ─────────────────────\n",
    "CHUNK = 5_000_000                       # rows per slice\n",
    "\n",
    "_grid_gdf = gpd.read_file(GRID_FILE)\n",
    "if \"zone_id\" not in _grid_gdf.columns:\n",
    "    _grid_gdf[\"zone_id\"] = np.arange(len(_grid_gdf), dtype=\"int32\")\n",
    "_grid_gdf = _grid_gdf.to_crs(\"EPSG:4326\")      # WGS-84\n",
    "\n",
    "def add_zone_id(df: pd.DataFrame, chunk: int = 5_000_000) -> pd.DataFrame:\n",
    "    n = len(df)\n",
    "    zone_out = np.full(n, -1, dtype=np.int32)        # -1  → no polygon\n",
    "\n",
    "    for start in range(0, n, chunk):\n",
    "        end = min(start + chunk, n)\n",
    "\n",
    "        # build GeoDataFrame slice\n",
    "        pts = gpd.GeoDataFrame(\n",
    "            df.iloc[start:end],\n",
    "            geometry=gpd.points_from_xy(df.lon.iloc[start:end],\n",
    "                                        df.lat.iloc[start:end]),\n",
    "            crs=\"EPSG:4326\"\n",
    "        )\n",
    "\n",
    "        joined = gpd.sjoin(\n",
    "            pts,\n",
    "            _grid_gdf[[\"zone_id\", \"geometry\"]],\n",
    "            how=\"left\",\n",
    "            predicate=\"within\"\n",
    "        )\n",
    "\n",
    "        # first match per original point\n",
    "        z = (joined\n",
    "             .groupby(level=0)[\"zone_id\"]\n",
    "             .first()\n",
    "             .dropna())                       # drop NaNs (unmatched)\n",
    "\n",
    "        idx_absolute = z.index.to_numpy(dtype=np.intp)\n",
    "        zone_out[idx_absolute] = z.to_numpy(dtype=np.int32)\n",
    "\n",
    "    df[\"zone_id\"] = zone_out\n",
    "    return df\n",
    "\n",
    "\n",
    "def add_time_bin(df: pd.DataFrame,\n",
    "                 minutes: int = TIME_BIN_MINUTES) -> pd.DataFrame:\n",
    "    mins = df[\"datetime\"].dt.hour * 60 + df[\"datetime\"].dt.minute\n",
    "    df[\"time_bin\"] = (mins // minutes).astype(\"int16\")\n",
    "    return df\n",
    "\n",
    "# ─────────────────────────── main loop ────────────────────────────\n",
    "def main() -> None:\n",
    "    grid = gpd.read_file(GRID_FILE)\n",
    "    if \"zone_id\" not in grid.columns:\n",
    "        grid[\"zone_id\"] = np.arange(len(grid), dtype=\"int32\")\n",
    "\n",
    "    OUT_DIR.mkdir(parents=True, exist_ok=True)\n",
    "\n",
    "    for f in IN_DIR.glob(\"*.parquet\"):\n",
    "        logging.info(\"Processing %s\", f)\n",
    "        df = pd.read_parquet(f)\n",
    "\n",
    "        logging.info(\"Adding spatial bin\")\n",
    "        df = add_zone_id(df)         \n",
    "\n",
    "        # Drop unmatched rows\n",
    "        before = len(df)\n",
    "        df = df[df[\"zone_id\"] != -1].reset_index(drop=True)\n",
    "        dropped = before - len(df)\n",
    "        logging.info(\"Dropped %d unmatched rows (zone_id = -1)\", dropped)\n",
    "\n",
    "        logging.info(\"Adding time bin\")\n",
    "        df = add_time_bin(df)\n",
    "\n",
    "        print(f\"df.colums= {df.columns}\")\n",
    "\n",
    "        out_path = OUT_DIR / f.name\n",
    "        df.to_parquet(out_path, index=False, compression=\"snappy\")\n",
    "        logging.info(\"Wrote %s\", out_path)\n",
    "\n",
    "if __name__ == \"__main__\":\n",
    "    main()"
   ]
  },
  {
   "cell_type": "code",
   "execution_count": 2,
   "id": "1003c3ba",
   "metadata": {},
   "outputs": [
    {
     "name": "stderr",
     "output_type": "stream",
     "text": [
      "/tmp/ipykernel_1722000/710004746.py:17: UserWarning: Parsing dates in %d.%m.%Y %H:%M:%S format when dayfirst=False (the default) was specified. Pass `dayfirst=True` or specify a format to silence this warning.\n",
      "  ts = pd.to_datetime(df[\"date\"].astype(str) + \" \" +\n"
     ]
    },
    {
     "name": "stdout",
     "output_type": "stream",
     "text": [
      "\n",
      "=== 20230327 ===\n",
      "{'binned': {'avg_pts_per_device': 175.36,\n",
      "            'hours_covered': 24.0,\n",
      "            'n_devices': 501715,\n",
      "            'n_points': 87981395},\n",
      " 'comparison': {'avg_pts_per_device': {'after': 175.36,\n",
      "                                       'before': 177.66,\n",
      "                                       'reduction_%': 1.29},\n",
      "                'hours_covered': {'after': 24.0,\n",
      "                                  'before': 24.0,\n",
      "                                  'reduction_%': 0.0},\n",
      "                'n_devices': {'after': 501715,\n",
      "                              'before': 751168,\n",
      "                              'reduction_%': 33.21},\n",
      "                'n_points': {'after': 87981395,\n",
      "                             'before': 133453155,\n",
      "                             'reduction_%': 34.07}},\n",
      " 'raw': {'avg_pts_per_device': 177.66,\n",
      "         'hours_covered': 24.0,\n",
      "         'n_devices': 751168,\n",
      "         'n_points': 133453155}}\n"
     ]
    },
    {
     "name": "stderr",
     "output_type": "stream",
     "text": [
      "/tmp/ipykernel_1722000/710004746.py:17: UserWarning: Parsing dates in %d.%m.%Y %H:%M:%S format when dayfirst=False (the default) was specified. Pass `dayfirst=True` or specify a format to silence this warning.\n",
      "  ts = pd.to_datetime(df[\"date\"].astype(str) + \" \" +\n"
     ]
    },
    {
     "name": "stdout",
     "output_type": "stream",
     "text": [
      "\n",
      "=== 20230328 ===\n",
      "{'binned': {'avg_pts_per_device': 172.96,\n",
      "            'hours_covered': 24.0,\n",
      "            'n_devices': 500313,\n",
      "            'n_points': 86532152},\n",
      " 'comparison': {'avg_pts_per_device': {'after': 172.96,\n",
      "                                       'before': 174.33,\n",
      "                                       'reduction_%': 0.79},\n",
      "                'hours_covered': {'after': 24.0,\n",
      "                                  'before': 24.0,\n",
      "                                  'reduction_%': 0.0},\n",
      "                'n_devices': {'after': 500313,\n",
      "                              'before': 749459,\n",
      "                              'reduction_%': 33.24},\n",
      "                'n_points': {'after': 86532152,\n",
      "                             'before': 130654297,\n",
      "                             'reduction_%': 33.77}},\n",
      " 'raw': {'avg_pts_per_device': 174.33,\n",
      "         'hours_covered': 24.0,\n",
      "         'n_devices': 749459,\n",
      "         'n_points': 130654297}}\n"
     ]
    },
    {
     "name": "stderr",
     "output_type": "stream",
     "text": [
      "/tmp/ipykernel_1722000/710004746.py:17: UserWarning: Parsing dates in %d.%m.%Y %H:%M:%S format when dayfirst=False (the default) was specified. Pass `dayfirst=True` or specify a format to silence this warning.\n",
      "  ts = pd.to_datetime(df[\"date\"].astype(str) + \" \" +\n"
     ]
    },
    {
     "name": "stdout",
     "output_type": "stream",
     "text": [
      "\n",
      "=== 20230329 ===\n",
      "{'binned': {'avg_pts_per_device': 174.48,\n",
      "            'hours_covered': 24.0,\n",
      "            'n_devices': 507342,\n",
      "            'n_points': 88523283},\n",
      " 'comparison': {'avg_pts_per_device': {'after': 174.48,\n",
      "                                       'before': 178.31,\n",
      "                                       'reduction_%': 2.15},\n",
      "                'hours_covered': {'after': 24.0,\n",
      "                                  'before': 24.0,\n",
      "                                  'reduction_%': 0.0},\n",
      "                'n_devices': {'after': 507342,\n",
      "                              'before': 758892,\n",
      "                              'reduction_%': 33.15},\n",
      "                'n_points': {'after': 88523283,\n",
      "                             'before': 135320914,\n",
      "                             'reduction_%': 34.58}},\n",
      " 'raw': {'avg_pts_per_device': 178.31,\n",
      "         'hours_covered': 24.0,\n",
      "         'n_devices': 758892,\n",
      "         'n_points': 135320914}}\n"
     ]
    },
    {
     "name": "stderr",
     "output_type": "stream",
     "text": [
      "/tmp/ipykernel_1722000/710004746.py:17: UserWarning: Parsing dates in %d.%m.%Y %H:%M:%S format when dayfirst=False (the default) was specified. Pass `dayfirst=True` or specify a format to silence this warning.\n",
      "  ts = pd.to_datetime(df[\"date\"].astype(str) + \" \" +\n"
     ]
    },
    {
     "name": "stdout",
     "output_type": "stream",
     "text": [
      "\n",
      "=== 20230330 ===\n",
      "{'binned': {'avg_pts_per_device': 172.11,\n",
      "            'hours_covered': 24.0,\n",
      "            'n_devices': 513656,\n",
      "            'n_points': 88407616},\n",
      " 'comparison': {'avg_pts_per_device': {'after': 172.11,\n",
      "                                       'before': 176.74,\n",
      "                                       'reduction_%': 2.62},\n",
      "                'hours_covered': {'after': 24.0,\n",
      "                                  'before': 24.0,\n",
      "                                  'reduction_%': 0.0},\n",
      "                'n_devices': {'after': 513656,\n",
      "                              'before': 768525,\n",
      "                              'reduction_%': 33.16},\n",
      "                'n_points': {'after': 88407616,\n",
      "                             'before': 135827994,\n",
      "                             'reduction_%': 34.91}},\n",
      " 'raw': {'avg_pts_per_device': 176.74,\n",
      "         'hours_covered': 24.0,\n",
      "         'n_devices': 768525,\n",
      "         'n_points': 135827994}}\n"
     ]
    },
    {
     "name": "stderr",
     "output_type": "stream",
     "text": [
      "/tmp/ipykernel_1722000/710004746.py:17: UserWarning: Parsing dates in %d.%m.%Y %H:%M:%S format when dayfirst=False (the default) was specified. Pass `dayfirst=True` or specify a format to silence this warning.\n",
      "  ts = pd.to_datetime(df[\"date\"].astype(str) + \" \" +\n"
     ]
    },
    {
     "name": "stdout",
     "output_type": "stream",
     "text": [
      "\n",
      "=== 20230331 ===\n",
      "{'binned': {'avg_pts_per_device': 160.83,\n",
      "            'hours_covered': 24.0,\n",
      "            'n_devices': 542576,\n",
      "            'n_points': 87260420},\n",
      " 'comparison': {'avg_pts_per_device': {'after': 160.83,\n",
      "                                       'before': 167.63,\n",
      "                                       'reduction_%': 4.06},\n",
      "                'hours_covered': {'after': 24.0,\n",
      "                                  'before': 24.0,\n",
      "                                  'reduction_%': 0.0},\n",
      "                'n_devices': {'after': 542576,\n",
      "                              'before': 802897,\n",
      "                              'reduction_%': 32.42},\n",
      "                'n_points': {'after': 87260420,\n",
      "                             'before': 134586862,\n",
      "                             'reduction_%': 35.16}},\n",
      " 'raw': {'avg_pts_per_device': 167.63,\n",
      "         'hours_covered': 24.0,\n",
      "         'n_devices': 802897,\n",
      "         'n_points': 134586862}}\n",
      "\n",
      "=== 20230401 ===\n",
      "{'binned': {'avg_pts_per_device': 157.63,\n",
      "            'hours_covered': 24.0,\n",
      "            'n_devices': 497995,\n",
      "            'n_points': 78501155},\n",
      " 'comparison': {'avg_pts_per_device': {'after': 157.63,\n",
      "                                       'before': 155.92,\n",
      "                                       'reduction_%': -1.1},\n",
      "                'hours_covered': {'after': 24.0,\n",
      "                                  'before': 24.0,\n",
      "                                  'reduction_%': 0.0},\n",
      "                'n_devices': {'after': 497995,\n",
      "                              'before': 751629,\n",
      "                              'reduction_%': 33.74},\n",
      "                'n_points': {'after': 78501155,\n",
      "                             'before': 117190239,\n",
      "                             'reduction_%': 33.01}},\n",
      " 'raw': {'avg_pts_per_device': 155.92,\n",
      "         'hours_covered': 24.0,\n",
      "         'n_devices': 751629,\n",
      "         'n_points': 117190239}}\n",
      "\n",
      "=== 20230402 ===\n",
      "{'binned': {'avg_pts_per_device': 169.48,\n",
      "            'hours_covered': 24.0,\n",
      "            'n_devices': 448129,\n",
      "            'n_points': 75946916},\n",
      " 'comparison': {'avg_pts_per_device': {'after': 169.48,\n",
      "                                       'before': 159.65,\n",
      "                                       'reduction_%': -6.16},\n",
      "                'hours_covered': {'after': 24.0,\n",
      "                                  'before': 24.0,\n",
      "                                  'reduction_%': 0.0},\n",
      "                'n_devices': {'after': 448129,\n",
      "                              'before': 693142,\n",
      "                              'reduction_%': 35.35},\n",
      "                'n_points': {'after': 75946916,\n",
      "                             'before': 110660627,\n",
      "                             'reduction_%': 31.37}},\n",
      " 'raw': {'avg_pts_per_device': 159.65,\n",
      "         'hours_covered': 24.0,\n",
      "         'n_devices': 693142,\n",
      "         'n_points': 110660627}}\n",
      "⚠️  missing binned file for slovenia_towers.parquet\n"
     ]
    }
   ],
   "source": [
    "from pathlib import Path\n",
    "import pandas as pd\n",
    "import pyarrow.parquet as pq\n",
    "from pprint import pprint\n",
    "\n",
    "RAW_DIR = Path(\"data\")\n",
    "BIN_DIR = Path(\"data_binned\")\n",
    "\n",
    "def columns_in_file(path):\n",
    "    return pq.ParquetFile(path).schema_arrow.names\n",
    "\n",
    "def build_datetime(df):\n",
    "    if \"datetime\" in df.columns:\n",
    "        return df\n",
    "    if {\"date\", \"time\"}.issubset(df.columns):\n",
    "        ts = pd.to_datetime(df[\"date\"].astype(str) + \" \" +\n",
    "                            df[\"time\"].astype(str),\n",
    "                            errors=\"coerce\")\n",
    "        df = df.assign(datetime=ts)\n",
    "    return df.dropna(subset=[\"datetime\"])\n",
    "\n",
    "def stats(df):\n",
    "    n_pts = len(df)\n",
    "    n_dev = df[\"deviceid\"].nunique()\n",
    "    hrs   = (df[\"datetime\"].max() - df[\"datetime\"].min()\n",
    "            ).total_seconds()/3600\n",
    "    return dict(\n",
    "        n_points=n_pts,\n",
    "        n_devices=n_dev,\n",
    "        avg_pts_per_device=round(n_pts/n_dev, 2) if n_dev else 0,\n",
    "        hours_covered=round(hrs, 2)\n",
    "    )\n",
    "\n",
    "def compare(a, b):\n",
    "    out = {}\n",
    "    for k in a:\n",
    "        before, after = a[k], b[k]\n",
    "        red = round((before - after) / before * 100, 2) if before else None\n",
    "        out[k] = {\"before\": before, \"after\": after, \"reduction_%\": red}\n",
    "    return out\n",
    "\n",
    "def main():\n",
    "    for raw in sorted(RAW_DIR.glob(\"*.parquet\")):\n",
    "        binned = BIN_DIR / raw.name\n",
    "        if not binned.exists():\n",
    "            print(f\"⚠️  missing binned file for {raw.name}\")\n",
    "            continue\n",
    "\n",
    "        want_cols = {\"deviceid\", \"date\", \"time\", \"lon\", \"lat\", \"datetime\"}\n",
    "        raw_cols  = want_cols.intersection(columns_in_file(raw))\n",
    "\n",
    "        df_raw = pd.read_parquet(raw, columns=list(raw_cols))\n",
    "        df_raw = build_datetime(df_raw)\n",
    "\n",
    "        df_bin = pd.read_parquet(\n",
    "            binned,\n",
    "            columns=[\"deviceid\", \"datetime\", \"lon\", \"lat\"]\n",
    "        )\n",
    "\n",
    "        s_raw, s_bin = stats(df_raw), stats(df_bin)\n",
    "        comp = compare(s_raw, s_bin)\n",
    "\n",
    "        print(f\"\\n=== {raw.stem} ===\")\n",
    "        pprint({\"raw\": s_raw, \"binned\": s_bin, \"comparison\": comp})\n",
    "\n",
    "if __name__ == \"__main__\":\n",
    "    main()\n"
   ]
  }
 ],
 "metadata": {
  "kernelspec": {
   "display_name": "Python 3 (ipykernel)",
   "language": "python",
   "name": "python3"
  },
  "language_info": {
   "codemirror_mode": {
    "name": "ipython",
    "version": 3
   },
   "file_extension": ".py",
   "mimetype": "text/x-python",
   "name": "python",
   "nbconvert_exporter": "python",
   "pygments_lexer": "ipython3",
   "version": "3.11.4"
  }
 },
 "nbformat": 4,
 "nbformat_minor": 5
}
